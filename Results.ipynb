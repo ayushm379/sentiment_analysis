{
 "cells": [
  {
   "cell_type": "markdown",
   "metadata": {},
   "source": [
    "# Importing modules"
   ]
  },
  {
   "cell_type": "code",
   "execution_count": 14,
   "metadata": {},
   "outputs": [],
   "source": [
    "#importing libraries and modules\n",
    "from keras.models import model_from_json\n",
    "from keras.datasets import imdb \n",
    "from nltk import word_tokenize\n",
    "from nltk.corpus import stopwords\n",
    "from nltk.stem.porter import PorterStemmer\n",
    "import numpy as np\n",
    "import string\n",
    "import re"
   ]
  },
  {
   "cell_type": "markdown",
   "metadata": {},
   "source": [
    "# IMDB DICT MAPS WORDS TO INDEX"
   ]
  },
  {
   "cell_type": "code",
   "execution_count": 15,
   "metadata": {},
   "outputs": [],
   "source": [
    "# importing imdb dict\n",
    "word_index = imdb.get_word_index()"
   ]
  },
  {
   "cell_type": "markdown",
   "metadata": {},
   "source": [
    "# MODEL WAS ALREADY SAVED, IMPORING IT"
   ]
  },
  {
   "cell_type": "code",
   "execution_count": 16,
   "metadata": {},
   "outputs": [],
   "source": [
    "# importing model from json file.\n",
    "file = open('sa_model' , 'r')\n",
    "json_model = file.read()\n",
    "file.close()\n",
    "model = model_from_json(json_model)\n",
    "\n",
    "# loading weights in the model\n",
    "model.load_weights('weights')"
   ]
  },
  {
   "cell_type": "markdown",
   "metadata": {},
   "source": [
    "# Preprocessing data using NLP"
   ]
  },
  {
   "cell_type": "code",
   "execution_count": 17,
   "metadata": {},
   "outputs": [],
   "source": [
    "# Function to vectorize the data\n",
    "dict_size = 40000\n",
    "\n",
    "def convert_to_vector(sentences, size=dict_size):\n",
    "    output = np.zeros( (len(sentences), size) )\n",
    "    for i,idx in enumerate(sentences):\n",
    "        # if the word exceeds the dict limit\n",
    "        if idx >= dict_size:\n",
    "            print('INCREASE WORD DICT FOR BETTER PERFORMANCE')\n",
    "            continue\n",
    "        output[i,idx] = 1\n",
    "    return output"
   ]
  },
  {
   "cell_type": "code",
   "execution_count": 18,
   "metadata": {},
   "outputs": [],
   "source": [
    "# Nlp pipeline \n",
    "def encode_string(review):\n",
    "    \n",
    "    # tokenizing on the basis of words ( can be done using sentence too )\n",
    "    tokens = word_tokenize(review)\n",
    "    \n",
    "    # converting all words to same case \n",
    "    tokens = [word.lower() for word in tokens]\n",
    "    \n",
    "    # removing string punctuations and other non-essential characters\n",
    "    table_token = str.maketrans('', '', string.punctuation)\n",
    "    stripped = [w.translate(table_token) for w in tokens]\n",
    "    \n",
    "    # taking only those words which have alphabets\n",
    "    words = [word for word in stripped if word.isalpha()]\n",
    "    \n",
    "    # removing stop words \n",
    "    stop_words = set(stopwords.words('english'))\n",
    "    words = [w for w in words if not w in stop_words]\n",
    "    \n",
    "    # converting words to root words\n",
    "#    porter = PorterStemmer()\n",
    "#    words = [porter.stem(word) for word in words]\n",
    "\n",
    "    # mapping the words to indexes\n",
    "    words = [ word_index[w] for w in words ]\n",
    "    \n",
    "    return words"
   ]
  },
  {
   "cell_type": "markdown",
   "metadata": {},
   "source": [
    "# Giving a class to String input"
   ]
  },
  {
   "cell_type": "code",
   "execution_count": 19,
   "metadata": {},
   "outputs": [
    {
     "name": "stdout",
     "output_type": "stream",
     "text": [
      " ENTER A REVIEW  :- \t I hate this\n",
      "\n",
      "\trating = 0.000000\n",
      "\n",
      "\tNegative REVIEW\n",
      "\n"
     ]
    }
   ],
   "source": [
    "review = input(' ENTER A REVIEW  :- \\t ')    \n",
    "    \n",
    "# encoding string using NLP pipeline\n",
    "encoded_string = encode_string(review)\n",
    "\n",
    "# converting data to vectors\n",
    "vectorized_string = convert_to_vector(encoded_string)\n",
    "\n",
    "# getting prediction class for for features\n",
    "output = model.predict_classes(vectorized_string)\n",
    "\n",
    "# print(output)\n",
    "\n",
    "# taking out the average of the output class\n",
    "avg = 0\n",
    "size = 0\n",
    "for x in output:\n",
    "    avg+=x\n",
    "    size+=1\n",
    "    \n",
    "if size == 0:\n",
    "    print(\"Neutral review\") # string could be null \n",
    "else:\n",
    "    avg = avg/size\n",
    "\n",
    "    # classify the average as per the data\n",
    "    print(\"\\n\\trating = %f\" %avg)\n",
    "    \n",
    "    if avg > 0.6:\n",
    "        print(\"\\n\\tPositive REVIEW\\n\")\n",
    "        \n",
    "    elif avg<= 0.66 and avg>0.5:\n",
    "        print(\"\\n\\tNeutral REVIEW\\n\")\n",
    "        \n",
    "    else:\n",
    "        print(\"\\n\\tNegative REVIEW\\n\")"
   ]
  },
  {
   "cell_type": "code",
   "execution_count": null,
   "metadata": {},
   "outputs": [],
   "source": []
  },
  {
   "cell_type": "code",
   "execution_count": null,
   "metadata": {},
   "outputs": [],
   "source": []
  }
 ],
 "metadata": {
  "kernelspec": {
   "display_name": "Python 3",
   "language": "python",
   "name": "python3"
  },
  "language_info": {
   "codemirror_mode": {
    "name": "ipython",
    "version": 3
   },
   "file_extension": ".py",
   "mimetype": "text/x-python",
   "name": "python",
   "nbconvert_exporter": "python",
   "pygments_lexer": "ipython3",
   "version": "3.7.4"
  }
 },
 "nbformat": 4,
 "nbformat_minor": 2
}
